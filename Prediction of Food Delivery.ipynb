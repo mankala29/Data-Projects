{
 "cells": [
  {
   "cell_type": "markdown",
   "metadata": {},
   "source": [
    "# <a name=\"0\">Prediction of Food Delivery</a>\n",
    "\n",
    "\n",
    "In this notebook we address John's food delivery problem and shape a machine learning solution with <b>sklearn</b> library. Given John's dataset of food delivery recordings, the task is to predict whether an order will be on time or delayed.  \n",
    "\n",
    "1. <a href=\"#1\">The dataset</a>\n",
    "2. <a href=\"#2\">Select features to build the model</a>\n",
    "3. <a href=\"#3\">Train a classifier (<b>K Nearest Neighbours Classifier </b>)</a>\n",
    "4. <a href=\"#4\">Use the trained classifier to make the predictions</a>\n",
    "5. <a href=\"#5\">Model Evaluation</a>\n",
    "6. <a href=\"#6\">Training and test datasets</a>\n",
    "7. <a href=\"#7\">Overfitting</a>"
   ]
  },
  {
   "cell_type": "markdown",
   "metadata": {},
   "source": [
    "## 1. <a name=\"1\">The dataset</a>\n",
    "(<a href=\"#1\">Go to top</a>)\n",
    "\n",
    "Let's enter John's food deliveries dataset here, using the <b>numpy</b> high performance array-processing package."
   ]
  },
  {
   "cell_type": "code",
   "execution_count": 3,
   "metadata": {},
   "outputs": [
    {
     "name": "stdout",
     "output_type": "stream",
     "text": [
      "[[0.   1.   5.   1.   0.  ]\n",
      " [1.   0.   7.   0.   1.  ]\n",
      " [0.   1.   2.   1.   1.  ]\n",
      " [1.   1.   4.2  1.   0.  ]\n",
      " [0.   0.   7.8  0.   1.  ]\n",
      " [1.   0.   3.9  1.   0.  ]\n",
      " [0.   1.   4.   1.   0.  ]\n",
      " [1.   1.   2.   0.   0.  ]\n",
      " [0.   0.   3.5  0.   1.  ]\n",
      " [1.   0.   2.6  1.   0.  ]\n",
      " [0.   0.   4.1  0.   1.  ]\n",
      " [0.   1.   1.5  0.   1.  ]\n",
      " [1.   1.   1.75 1.   0.  ]\n",
      " [1.   0.   1.3  0.   0.  ]\n",
      " [1.   1.   2.1  0.   0.  ]\n",
      " [1.   1.   0.2  1.   0.  ]\n",
      " [1.   1.   5.2  0.   1.  ]\n",
      " [0.   1.   2.   1.   0.  ]\n",
      " [1.   0.   5.5  0.   1.  ]\n",
      " [0.   0.   2.   1.   0.  ]\n",
      " [1.   1.   1.7  0.   0.  ]\n",
      " [0.   1.   3.   1.   1.  ]\n",
      " [1.   1.   1.9  1.   0.  ]\n",
      " [0.   1.   3.1  0.   1.  ]\n",
      " [0.   1.   2.3  0.   0.  ]\n",
      " [0.   0.   1.1  1.   0.  ]\n",
      " [1.   1.   2.5  1.   1.  ]\n",
      " [1.   1.   5.   0.   1.  ]\n",
      " [1.   0.   7.5  1.   1.  ]\n",
      " [0.   0.   0.5  1.   0.  ]\n",
      " [0.   0.   0.5  1.   0.  ]\n",
      " [0.   0.   1.5  1.   0.  ]\n",
      " [1.   0.   3.2  1.   0.  ]\n",
      " [0.   0.   2.15 1.   0.  ]\n",
      " [1.   0.   4.2  0.   1.  ]\n",
      " [1.   0.   6.5  0.   1.  ]\n",
      " [1.   0.   0.5  0.   0.  ]\n",
      " [0.   0.   3.5  0.   1.  ]\n",
      " [0.   0.   1.75 0.   0.  ]\n",
      " [1.   1.   5.   0.   1.  ]\n",
      " [0.   0.   2.   1.   0.  ]\n",
      " [0.   1.   1.3  1.   1.  ]\n",
      " [0.   1.   0.2  0.   0.  ]\n",
      " [1.   1.   2.2  0.   0.  ]\n",
      " [0.   1.   1.2  1.   0.  ]\n",
      " [1.   1.   4.2  0.   1.  ]]\n",
      "(46, 5)\n"
     ]
    }
   ],
   "source": [
    "import numpy as np\n",
    "\n",
    "#This is John's data\n",
    "data = np.array([[0, 1, 5, 1, 0], # record of John's 1st food delivery\n",
    "               [1, 0, 7, 0, 1],   # record of John's 2nd food delivery\n",
    "               [0, 1, 2, 1, 1],   # record of John's 3rd food delivery\n",
    "               [1, 1, 4.2, 1, 0], # record of John's 4th food delivery\n",
    "               [0, 0, 7.8, 0, 1], # ...\n",
    "               [1, 0, 3.9, 1, 0],\n",
    "               [0, 1, 4, 1, 0],\n",
    "               [1, 1, 2, 0, 0],\n",
    "               [0, 0, 3.5, 0, 1],\n",
    "               [1, 0, 2.6, 1, 0],\n",
    "               [0, 0, 4.1, 0, 1],\n",
    "               [0, 1, 1.5, 0, 1],\n",
    "               [1, 1, 1.75, 1, 0],\n",
    "               [1, 0, 1.3, 0, 0],\n",
    "               [1, 1, 2.1, 0, 0],\n",
    "               [1, 1, 0.2, 1, 0],\n",
    "               [1, 1, 5.2, 0, 1],\n",
    "               [0, 1, 2, 1, 0],\n",
    "               [1, 0, 5.5, 0, 1],\n",
    "               [0, 0, 2, 1, 0],\n",
    "               [1, 1, 1.7, 0, 0],\n",
    "               [0, 1, 3, 1, 1],\n",
    "               [1, 1, 1.9, 1, 0],\n",
    "               [0, 1, 3.1, 0, 1],\n",
    "               [0, 1, 2.3, 0, 0],\n",
    "               [0, 0, 1.1, 1, 0],\n",
    "               [1, 1, 2.5, 1, 1],\n",
    "               [1, 1, 5, 0, 1],\n",
    "               [1, 0, 7.5, 1, 1],\n",
    "               [0, 0, 0.5, 1, 0],\n",
    "               [0, 0, 0.5, 1, 0],\n",
    "               [0, 0, 1.5, 1, 0],\n",
    "               [1, 0, 3.2, 1, 0],\n",
    "               [0, 0, 2.15, 1, 0],\n",
    "               [1, 0, 4.2, 0, 1],   \n",
    "               [1, 0, 6.5, 0, 1],\n",
    "               [1, 0, 0.5, 0, 0], \n",
    "               [0, 0, 3.5, 0, 1],\n",
    "               [0, 0, 1.75, 0, 0],\n",
    "               [1, 1, 5, 0, 1],\n",
    "               [0, 0, 2, 1, 0],\n",
    "               [0, 1, 1.3, 1, 1],\n",
    "               [0, 1, 0.2, 0, 0],\n",
    "               [1, 1, 2.2, 0, 0],\n",
    "               [0, 1, 1.2, 1, 0],\n",
    "               [1, 1, 4.2, 0, 1]])\n",
    "\n",
    "print(data)\n",
    "print(data.shape)"
   ]
  },
  {
   "cell_type": "markdown",
   "metadata": {},
   "source": [
    "Let's now write our toy dataset into <b>pandas</b> dataframe, labeling the columns for easier access. "
   ]
  },
  {
   "cell_type": "code",
   "execution_count": 5,
   "metadata": {},
   "outputs": [],
   "source": [
    "import pandas as pd\n",
    "\n",
    "#Create the dataframe with this data, labeling the columns\n",
    "delivery_data = pd.DataFrame(data, columns=[\"bad_weather\", \"is_rush_hour\", \"mile_distance\", \"urban_address\", \"late\"])"
   ]
  },
  {
   "cell_type": "markdown",
   "metadata": {},
   "source": [
    "Looking at our dataset as a dataframe:"
   ]
  },
  {
   "cell_type": "code",
   "execution_count": 6,
   "metadata": {},
   "outputs": [
    {
     "data": {
      "text/html": [
       "<div>\n",
       "<style>\n",
       "    .dataframe thead tr:only-child th {\n",
       "        text-align: right;\n",
       "    }\n",
       "\n",
       "    .dataframe thead th {\n",
       "        text-align: left;\n",
       "    }\n",
       "\n",
       "    .dataframe tbody tr th {\n",
       "        vertical-align: top;\n",
       "    }\n",
       "</style>\n",
       "<table border=\"1\" class=\"dataframe\">\n",
       "  <thead>\n",
       "    <tr style=\"text-align: right;\">\n",
       "      <th></th>\n",
       "      <th>bad_weather</th>\n",
       "      <th>is_rush_hour</th>\n",
       "      <th>mile_distance</th>\n",
       "      <th>urban_address</th>\n",
       "      <th>late</th>\n",
       "    </tr>\n",
       "  </thead>\n",
       "  <tbody>\n",
       "    <tr>\n",
       "      <th>0</th>\n",
       "      <td>0.0</td>\n",
       "      <td>1.0</td>\n",
       "      <td>5.00</td>\n",
       "      <td>1.0</td>\n",
       "      <td>0.0</td>\n",
       "    </tr>\n",
       "    <tr>\n",
       "      <th>1</th>\n",
       "      <td>1.0</td>\n",
       "      <td>0.0</td>\n",
       "      <td>7.00</td>\n",
       "      <td>0.0</td>\n",
       "      <td>1.0</td>\n",
       "    </tr>\n",
       "    <tr>\n",
       "      <th>2</th>\n",
       "      <td>0.0</td>\n",
       "      <td>1.0</td>\n",
       "      <td>2.00</td>\n",
       "      <td>1.0</td>\n",
       "      <td>1.0</td>\n",
       "    </tr>\n",
       "    <tr>\n",
       "      <th>3</th>\n",
       "      <td>1.0</td>\n",
       "      <td>1.0</td>\n",
       "      <td>4.20</td>\n",
       "      <td>1.0</td>\n",
       "      <td>0.0</td>\n",
       "    </tr>\n",
       "    <tr>\n",
       "      <th>4</th>\n",
       "      <td>0.0</td>\n",
       "      <td>0.0</td>\n",
       "      <td>7.80</td>\n",
       "      <td>0.0</td>\n",
       "      <td>1.0</td>\n",
       "    </tr>\n",
       "    <tr>\n",
       "      <th>5</th>\n",
       "      <td>1.0</td>\n",
       "      <td>0.0</td>\n",
       "      <td>3.90</td>\n",
       "      <td>1.0</td>\n",
       "      <td>0.0</td>\n",
       "    </tr>\n",
       "    <tr>\n",
       "      <th>6</th>\n",
       "      <td>0.0</td>\n",
       "      <td>1.0</td>\n",
       "      <td>4.00</td>\n",
       "      <td>1.0</td>\n",
       "      <td>0.0</td>\n",
       "    </tr>\n",
       "    <tr>\n",
       "      <th>7</th>\n",
       "      <td>1.0</td>\n",
       "      <td>1.0</td>\n",
       "      <td>2.00</td>\n",
       "      <td>0.0</td>\n",
       "      <td>0.0</td>\n",
       "    </tr>\n",
       "    <tr>\n",
       "      <th>8</th>\n",
       "      <td>0.0</td>\n",
       "      <td>0.0</td>\n",
       "      <td>3.50</td>\n",
       "      <td>0.0</td>\n",
       "      <td>1.0</td>\n",
       "    </tr>\n",
       "    <tr>\n",
       "      <th>9</th>\n",
       "      <td>1.0</td>\n",
       "      <td>0.0</td>\n",
       "      <td>2.60</td>\n",
       "      <td>1.0</td>\n",
       "      <td>0.0</td>\n",
       "    </tr>\n",
       "    <tr>\n",
       "      <th>10</th>\n",
       "      <td>0.0</td>\n",
       "      <td>0.0</td>\n",
       "      <td>4.10</td>\n",
       "      <td>0.0</td>\n",
       "      <td>1.0</td>\n",
       "    </tr>\n",
       "    <tr>\n",
       "      <th>11</th>\n",
       "      <td>0.0</td>\n",
       "      <td>1.0</td>\n",
       "      <td>1.50</td>\n",
       "      <td>0.0</td>\n",
       "      <td>1.0</td>\n",
       "    </tr>\n",
       "    <tr>\n",
       "      <th>12</th>\n",
       "      <td>1.0</td>\n",
       "      <td>1.0</td>\n",
       "      <td>1.75</td>\n",
       "      <td>1.0</td>\n",
       "      <td>0.0</td>\n",
       "    </tr>\n",
       "    <tr>\n",
       "      <th>13</th>\n",
       "      <td>1.0</td>\n",
       "      <td>0.0</td>\n",
       "      <td>1.30</td>\n",
       "      <td>0.0</td>\n",
       "      <td>0.0</td>\n",
       "    </tr>\n",
       "    <tr>\n",
       "      <th>14</th>\n",
       "      <td>1.0</td>\n",
       "      <td>1.0</td>\n",
       "      <td>2.10</td>\n",
       "      <td>0.0</td>\n",
       "      <td>0.0</td>\n",
       "    </tr>\n",
       "  </tbody>\n",
       "</table>\n",
       "</div>"
      ],
      "text/plain": [
       "    bad_weather  is_rush_hour  mile_distance  urban_address  late\n",
       "0           0.0           1.0           5.00            1.0   0.0\n",
       "1           1.0           0.0           7.00            0.0   1.0\n",
       "2           0.0           1.0           2.00            1.0   1.0\n",
       "3           1.0           1.0           4.20            1.0   0.0\n",
       "4           0.0           0.0           7.80            0.0   1.0\n",
       "5           1.0           0.0           3.90            1.0   0.0\n",
       "6           0.0           1.0           4.00            1.0   0.0\n",
       "7           1.0           1.0           2.00            0.0   0.0\n",
       "8           0.0           0.0           3.50            0.0   1.0\n",
       "9           1.0           0.0           2.60            1.0   0.0\n",
       "10          0.0           0.0           4.10            0.0   1.0\n",
       "11          0.0           1.0           1.50            0.0   1.0\n",
       "12          1.0           1.0           1.75            1.0   0.0\n",
       "13          1.0           0.0           1.30            0.0   0.0\n",
       "14          1.0           1.0           2.10            0.0   0.0"
      ]
     },
     "execution_count": 6,
     "metadata": {},
     "output_type": "execute_result"
    }
   ],
   "source": [
    "# Print the first 15 rows\n",
    "delivery_data.head(15)"
   ]
  },
  {
   "cell_type": "markdown",
   "metadata": {},
   "source": [
    "Dataframes are not just more meaningful to look at, are also powerful, expressive and flexible data structures that make data manipulation and analysis much easier. "
   ]
  },
  {
   "cell_type": "markdown",
   "metadata": {},
   "source": [
    "## 2. <a name=\"2\">Select features to build a model</a>\n",
    "(<a href=\"#2\">Go to top</a>)\n",
    "\n",
    "Let's start using the dataframe, by first grabbing the input and output of our machine learning problem. "
   ]
  },
  {
   "cell_type": "code",
   "execution_count": 7,
   "metadata": {},
   "outputs": [],
   "source": [
    "input_data = delivery_data[[\"bad_weather\", \"is_rush_hour\", \"mile_distance\", \"urban_address\"]]\n",
    "target = delivery_data[\"late\"]"
   ]
  },
  {
   "cell_type": "markdown",
   "metadata": {},
   "source": [
    "On this dataset containing samples of each of the two possible classes, we fit an estimator from the <b>sklearn</b> library to best capture the relationship between the input and the output, and further explore that learned relationship to predict the classes to which unseen samples belong. \n",
    "\n",
    "In <b>sklearn</b>, an estimator is a Python object that implements the methods <b>.fit()</b> and <b>.predict()</b>. The estimator's contructor takes as arguments the model's parameters."
   ]
  },
  {
   "cell_type": "markdown",
   "metadata": {},
   "source": [
    "## 3. <a name=\"3\">Train a classifier</a>\n",
    "(<a href=\"#3\">Go to top</a>)\n",
    "\n",
    "Let's fit a K Nearest Neighbour (KNN) model to our data. We use the sklearn's library's KNeighborsClassifier here. "
   ]
  },
  {
   "cell_type": "code",
   "execution_count": 9,
   "metadata": {},
   "outputs": [
    {
     "data": {
      "text/plain": [
       "KNeighborsClassifier(algorithm='auto', leaf_size=30, metric='minkowski',\n",
       "           metric_params=None, n_jobs=1, n_neighbors=1, p=2,\n",
       "           weights='uniform')"
      ]
     },
     "execution_count": 9,
     "metadata": {},
     "output_type": "execute_result"
    }
   ],
   "source": [
    "from sklearn.neighbors import KNeighborsClassifier\n",
    "\n",
    "# Use n_neighbors = 1\n",
    "# This means the KNN will consider the \"closest\" record to make a decision.\n",
    "classifier = KNeighborsClassifier(n_neighbors = 1)\n",
    "\n",
    "# Fit the model to our data\n",
    "classifier.fit(input_data, target)"
   ]
  },
  {
   "cell_type": "markdown",
   "metadata": {},
   "source": [
    "## 4. <a name=\"4\">Use the trained classifier to make predictions</a>\n",
    "(<a href=\"#4\">Go to top</a>)\n",
    "\n",
    "Let's make some prediction with our fitted model. Assume we have the following data:"
   ]
  },
  {
   "cell_type": "code",
   "execution_count": 10,
   "metadata": {},
   "outputs": [
    {
     "name": "stdout",
     "output_type": "stream",
     "text": [
      "[0.]\n"
     ]
    }
   ],
   "source": [
    "import numpy as np\n",
    "\n",
    "some_data = np.array([[0, 0, 2.1, 1]]) # bad_weather ->0, is_rush_hour->0, mile_distance-> 2.1 and urban_address->1\n",
    "\n",
    "# Use the fitted model to make predictions on new data\n",
    "print(classifier.predict(some_data))"
   ]
  },
  {
   "cell_type": "markdown",
   "metadata": {},
   "source": [
    "We predicted this delivery to be on time.\n",
    "\n",
    "We can also predict multiple records, as shown below."
   ]
  },
  {
   "cell_type": "code",
   "execution_count": 11,
   "metadata": {},
   "outputs": [
    {
     "name": "stdout",
     "output_type": "stream",
     "text": [
      "[0. 0. 1.]\n"
     ]
    }
   ],
   "source": [
    "import numpy as np\n",
    "\n",
    "some_data = np.array([[0, 0, 2.1, 1], # bad_weather ->0, is_rush_hour->0, mile_distance-> 2.1 and urban_address->1\n",
    "                     [0, 1, 5, 0],    # bad_weather ->0, is_rush_hour->1, mile_distance-> 5 and urban_address->1\n",
    "                     [1, 1, 3.1, 1]   # bad_weather ->1, is_rush_hour->1, mile_distance-> 3.1 and urban_address->1\n",
    "                     ])\n",
    "\n",
    "# Use the fitted model to make predictions on more new data\n",
    "print(classifier.predict(some_data))"
   ]
  },
  {
   "cell_type": "markdown",
   "metadata": {},
   "source": [
    "The last delivery is predicted to be late. The first two will be on time. (hopefully)"
   ]
  },
  {
   "cell_type": "markdown",
   "metadata": {},
   "source": [
    "## 5. <a name=\"5\">Model Evaluation</a>\n",
    "(<a href=\"#5\">Go to top</a>)\n",
    "\n",
    "<b>How do we know whether our predictions were good or bad predictions?</b>\n",
    "If we don't have the correct label for this input, we won't know. Similarly, we won't have any idea about how good this model is.\n",
    "\n",
    "One thing we can do is to test the model with the data we used to train it, and use sklearn's metrics functions to examine the performance of the classifier.  "
   ]
  },
  {
   "cell_type": "code",
   "execution_count": 12,
   "metadata": {},
   "outputs": [],
   "source": [
    "# Use the fitted model to make predictions on our training dataset.\n",
    "predictions = classifier.predict(input_data)"
   ]
  },
  {
   "cell_type": "markdown",
   "metadata": {},
   "source": [
    "<b>Confusion matrix:</b> The diagonals show us correct classifications. Each row and column belongs to a class (late and on time). The first column and row corresponds to \"on time\" case, the second column-rows are \"late\" cases."
   ]
  },
  {
   "cell_type": "code",
   "execution_count": 13,
   "metadata": {},
   "outputs": [
    {
     "name": "stdout",
     "output_type": "stream",
     "text": [
      "[[26  1]\n",
      " [ 0 19]]\n"
     ]
    }
   ],
   "source": [
    "from sklearn.metrics import confusion_matrix\n",
    "\n",
    "print(confusion_matrix(target, predictions))"
   ]
  },
  {
   "cell_type": "markdown",
   "metadata": {},
   "source": [
    "When we look at the confusion matrix, we can quickly see that all predictions were correct, so our classifier should have a high score.\n",
    "\n",
    "<b>Classification metrics:</b> We use here the <b>accuracy</b> metric, that measures how correctly the trained model predicts the late or not late outcomes. Let's look at the classification report and the accuracy score below."
   ]
  },
  {
   "cell_type": "code",
   "execution_count": 14,
   "metadata": {},
   "outputs": [
    {
     "name": "stdout",
     "output_type": "stream",
     "text": [
      "             precision    recall  f1-score   support\n",
      "\n",
      "        0.0       1.00      0.96      0.98        27\n",
      "        1.0       0.95      1.00      0.97        19\n",
      "\n",
      "avg / total       0.98      0.98      0.98        46\n",
      "\n",
      "Accuracy: 0.9782608695652174\n"
     ]
    }
   ],
   "source": [
    "from sklearn.metrics import classification_report\n",
    "from sklearn.metrics import accuracy_score\n",
    "\n",
    "print(classification_report(target, predictions))\n",
    "\n",
    "print(\"Accuracy:\", accuracy_score(target, predictions))"
   ]
  },
  {
   "cell_type": "markdown",
   "metadata": {},
   "source": [
    "Indeed, we predicted all outcomes with 97% accuracy."
   ]
  },
  {
   "cell_type": "markdown",
   "metadata": {},
   "source": [
    "## 5. <a name=\"6\">Training and test datasets</a>\n",
    "(<a href=\"#6\">Go to top</a>)\n",
    "\n",
    "John's model worked with 97% accuracy on the whole dataset. This might seem promising, but this doesn't tell us anything about performance on future orders. One way to test whether this model works on new \"unseen\" orders, is to reserve some data from our original dataset for test purposes. \n",
    "\n",
    "<b>Let's split our data into train and test sets: Training (85%) and test (15%).</b> This will give us 38 training records (of the total 45 records)."
   ]
  },
  {
   "cell_type": "code",
   "execution_count": 16,
   "metadata": {},
   "outputs": [
    {
     "data": {
      "text/plain": [
       "(46, 5)"
      ]
     },
     "execution_count": 16,
     "metadata": {},
     "output_type": "execute_result"
    }
   ],
   "source": [
    "delivery_data.shape"
   ]
  },
  {
   "cell_type": "code",
   "execution_count": 18,
   "metadata": {},
   "outputs": [
    {
     "data": {
      "text/html": [
       "<div>\n",
       "<style>\n",
       "    .dataframe thead tr:only-child th {\n",
       "        text-align: right;\n",
       "    }\n",
       "\n",
       "    .dataframe thead th {\n",
       "        text-align: left;\n",
       "    }\n",
       "\n",
       "    .dataframe tbody tr th {\n",
       "        vertical-align: top;\n",
       "    }\n",
       "</style>\n",
       "<table border=\"1\" class=\"dataframe\">\n",
       "  <thead>\n",
       "    <tr style=\"text-align: right;\">\n",
       "      <th></th>\n",
       "      <th>bad_weather</th>\n",
       "      <th>is_rush_hour</th>\n",
       "      <th>mile_distance</th>\n",
       "      <th>urban_address</th>\n",
       "      <th>late</th>\n",
       "    </tr>\n",
       "  </thead>\n",
       "  <tbody>\n",
       "    <tr>\n",
       "      <th>0</th>\n",
       "      <td>0.0</td>\n",
       "      <td>1.0</td>\n",
       "      <td>5.0</td>\n",
       "      <td>1.0</td>\n",
       "      <td>0.0</td>\n",
       "    </tr>\n",
       "    <tr>\n",
       "      <th>1</th>\n",
       "      <td>1.0</td>\n",
       "      <td>0.0</td>\n",
       "      <td>7.0</td>\n",
       "      <td>0.0</td>\n",
       "      <td>1.0</td>\n",
       "    </tr>\n",
       "    <tr>\n",
       "      <th>2</th>\n",
       "      <td>0.0</td>\n",
       "      <td>1.0</td>\n",
       "      <td>2.0</td>\n",
       "      <td>1.0</td>\n",
       "      <td>1.0</td>\n",
       "    </tr>\n",
       "    <tr>\n",
       "      <th>3</th>\n",
       "      <td>1.0</td>\n",
       "      <td>1.0</td>\n",
       "      <td>4.2</td>\n",
       "      <td>1.0</td>\n",
       "      <td>0.0</td>\n",
       "    </tr>\n",
       "    <tr>\n",
       "      <th>4</th>\n",
       "      <td>0.0</td>\n",
       "      <td>0.0</td>\n",
       "      <td>7.8</td>\n",
       "      <td>0.0</td>\n",
       "      <td>1.0</td>\n",
       "    </tr>\n",
       "  </tbody>\n",
       "</table>\n",
       "</div>"
      ],
      "text/plain": [
       "   bad_weather  is_rush_hour  mile_distance  urban_address  late\n",
       "0          0.0           1.0            5.0            1.0   0.0\n",
       "1          1.0           0.0            7.0            0.0   1.0\n",
       "2          0.0           1.0            2.0            1.0   1.0\n",
       "3          1.0           1.0            4.2            1.0   0.0\n",
       "4          0.0           0.0            7.8            0.0   1.0"
      ]
     },
     "execution_count": 18,
     "metadata": {},
     "output_type": "execute_result"
    }
   ],
   "source": [
    "# Let's split our data into two sets: Training (85%) and test (15%)\n",
    "# This gives us 38 training records and 7 test records (total 45 records)\n",
    "\n",
    "training_data = delivery_data.iloc[:38, :] # First 38\n",
    "test_data = delivery_data.iloc[38:, :] # Remaining\n",
    "\n",
    "#Print the first 5 rows\n",
    "training_data.head()"
   ]
  },
  {
   "cell_type": "markdown",
   "metadata": {},
   "source": [
    "Fitting the KNN on training dataset this time."
   ]
  },
  {
   "cell_type": "code",
   "execution_count": 21,
   "metadata": {},
   "outputs": [
    {
     "data": {
      "text/plain": [
       "KNeighborsClassifier(algorithm='auto', leaf_size=30, metric='minkowski',\n",
       "           metric_params=None, n_jobs=1, n_neighbors=1, p=2,\n",
       "           weights='uniform')"
      ]
     },
     "execution_count": 21,
     "metadata": {},
     "output_type": "execute_result"
    }
   ],
   "source": [
    "from sklearn.neighbors import KNeighborsClassifier\n",
    "\n",
    "X_train = training_data[[\"bad_weather\", \"is_rush_hour\", \"mile_distance\", \"urban_address\"]].values\n",
    "y_train = training_data[\"late\"].tolist()\n",
    "\n",
    "# Use n_neighbors = 1\n",
    "# This means the KNN will consider the \"closest\" record to make a decision.\n",
    "classifier = KNeighborsClassifier(n_neighbors = 1)\n",
    "\n",
    "# Fit the model to our training data\n",
    "classifier.fit(X_train, y_train)"
   ]
  },
  {
   "cell_type": "markdown",
   "metadata": {},
   "source": [
    "Let's check the accuracy on training data."
   ]
  },
  {
   "cell_type": "code",
   "execution_count": 22,
   "metadata": {},
   "outputs": [
    {
     "name": "stdout",
     "output_type": "stream",
     "text": [
      "Model evaluation on the training set:\n",
      "\n",
      "[[21  1]\n",
      " [ 0 16]]\n",
      "             precision    recall  f1-score   support\n",
      "\n",
      "        0.0       1.00      0.95      0.98        22\n",
      "        1.0       0.94      1.00      0.97        16\n",
      "\n",
      "avg / total       0.98      0.97      0.97        38\n",
      "\n",
      "Training accuracy: 0.9736842105263158\n"
     ]
    }
   ],
   "source": [
    "from sklearn.metrics import confusion_matrix, classification_report, accuracy_score\n",
    "\n",
    "# Use the fitted model to make predictions on the same dataset we trained the model on\n",
    "train_predictions = classifier.predict(X_train)\n",
    "\n",
    "print('Model evaluation on the training set:\\n')\n",
    "print(confusion_matrix(y_train, train_predictions))\n",
    "print(classification_report(y_train, train_predictions))\n",
    "print('Training accuracy:', accuracy_score(y_train, train_predictions))"
   ]
  },
  {
   "cell_type": "markdown",
   "metadata": {},
   "source": [
    "And now, let's check the accuracy on the test data."
   ]
  },
  {
   "cell_type": "code",
   "execution_count": 23,
   "metadata": {},
   "outputs": [
    {
     "name": "stdout",
     "output_type": "stream",
     "text": [
      "Model evaluation on the training set:\n",
      "\n",
      "[[2 3]\n",
      " [0 3]]\n",
      "             precision    recall  f1-score   support\n",
      "\n",
      "        0.0       1.00      0.40      0.57         5\n",
      "        1.0       0.50      1.00      0.67         3\n",
      "\n",
      "avg / total       0.81      0.62      0.61         8\n",
      "\n",
      "Training accuracy: 0.625\n"
     ]
    }
   ],
   "source": [
    "from sklearn.metrics import confusion_matrix, classification_report, accuracy_score\n",
    "\n",
    "X_test = test_data[[\"bad_weather\", \"is_rush_hour\", \"mile_distance\", \"urban_address\"]].values\n",
    "y_test = test_data[\"late\"].tolist()\n",
    "\n",
    "# Use the fitted model to make predictions on the same dataset we trained the model on\n",
    "test_predictions = classifier.predict(X_test)\n",
    "\n",
    "print('Model evaluation on the training set:\\n')\n",
    "print(confusion_matrix(y_test, test_predictions))\n",
    "print(classification_report(y_test, test_predictions))\n",
    "print('Training accuracy:', accuracy_score(y_test, test_predictions))"
   ]
  },
  {
   "cell_type": "markdown",
   "metadata": {},
   "source": [
    "## 7. <a name=\"7\">Overfitting</a>\n",
    "(<a href=\"#7\">Go to top</a>)\n",
    "\n",
    "<b>This doesn't look good!</b>\n",
    "\n",
    "We only achieved 62% accuracy on data that model hasn't seen before.\n",
    "Can we trust this model? Probably not.\n",
    "\n",
    "<b>Let's explain what happened here.</b>\n",
    "\n",
    "We experienced a common problem called <b>\"Overfitting\"</b>. This means our model \"over-learned\" or memorized our training data, and failed on the new data it hasn't seen before.\n",
    "\n",
    "Experienced people would have spotted the problem even before fitting the classifier, the K parameter we chose as 1 here looks at the closest one record and assign the class of that record. This doesn't generalize well to our overall dataset and \"overfits\" the dataset.\n",
    "\n",
    "<b>Where is the validation subset?</b>\n",
    "\n",
    "If we want to optimize the performance of our algorithm, we therefore reduce the so-called <i>generalization-gap</i>, we need to look for the best performing K value, using a validation set. We pick the K value that results in the best validation performance metric of our choice, and then we finally check model performance on the test dataset."
   ]
  },
  {
   "cell_type": "code",
   "execution_count": 24,
   "metadata": {
    "collapsed": true
   },
   "outputs": [],
   "source": [
    "# Let's further split our training data into two sets: Training (80%) and Validation (20%)\n",
    "# This gives us 30 training records and 8 test records\n",
    "\n",
    "train_data = training_data.iloc[:30, :] #First 30\n",
    "val_data = training_data.iloc[30:, :] #Remaining\n",
    "\n",
    "X_train = train_data[[\"bad_weather\", \"is_rush_hour\", \"mile_distance\", \"urban_address\"]].values\n",
    "y_train = train_data[\"late\"].tolist()\n",
    "\n",
    "X_val = val_data[[\"bad_weather\", \"is_rush_hour\", \"mile_distance\", \"urban_address\"]].values\n",
    "y_val = val_data[\"late\"].tolist()"
   ]
  },
  {
   "cell_type": "markdown",
   "metadata": {},
   "source": [
    "<b>Trying different K values.</b>\n",
    "\n",
    "Let's try different K values and see how the model performs with each one, on the validation set."
   ]
  },
  {
   "cell_type": "code",
   "execution_count": 27,
   "metadata": {},
   "outputs": [
    {
     "name": "stdout",
     "output_type": "stream",
     "text": [
      "K=1, Validation accuracy score:1.000000\n",
      "K=2, Validation accuracy score:0.875000\n",
      "K=3, Validation accuracy score:1.000000\n",
      "K=4, Validation accuracy score:1.000000\n",
      "K=5, Validation accuracy score:1.000000\n",
      "K=6, Validation accuracy score:1.000000\n"
     ]
    }
   ],
   "source": [
    "from sklearn.neighbors import KNeighborsClassifier\n",
    "\n",
    "K_values = [1, 2, 3, 4, 5, 6]\n",
    "\n",
    "for K in K_values:\n",
    "    classifier = KNeighborsClassifier(n_neighbors = K)\n",
    "    classifier.fit(X_train, y_train)\n",
    "    val_predictions = classifier.predict(X_val)\n",
    "    print(\"K=%d, Validation accuracy score:%f\" % (K, accuracy_score(y_val, val_predictions)))"
   ]
  },
  {
   "cell_type": "markdown",
   "metadata": {},
   "source": [
    "Looks like K=3 or K=4 or K=5 are optimal choices for K. Let's choose K=4 to build the classifier, train on the train set, and finally test on the test set."
   ]
  },
  {
   "cell_type": "code",
   "execution_count": 28,
   "metadata": {},
   "outputs": [
    {
     "name": "stdout",
     "output_type": "stream",
     "text": [
      "Test accuracy score: 0.875000\n"
     ]
    }
   ],
   "source": [
    "classifier = KNeighborsClassifier(n_neighbors = 4)\n",
    "classifier.fit(X_train, y_train)\n",
    "test_predictions = classifier.predict(X_test)\n",
    "print(\"Test accuracy score: %f\" % (accuracy_score(y_test, test_predictions)))"
   ]
  },
  {
   "cell_type": "markdown",
   "metadata": {},
   "source": [
    "Indeed, accuracy on the test set improved from 62% to 87%, reducing the generalization gap. "
   ]
  }
 ],
 "metadata": {
  "kernelspec": {
   "display_name": "Python 3",
   "language": "python",
   "name": "python3"
  },
  "language_info": {
   "codemirror_mode": {
    "name": "ipython",
    "version": 3
   },
   "file_extension": ".py",
   "mimetype": "text/x-python",
   "name": "python",
   "nbconvert_exporter": "python",
   "pygments_lexer": "ipython3",
   "version": "3.7.4"
  }
 },
 "nbformat": 4,
 "nbformat_minor": 2
}
